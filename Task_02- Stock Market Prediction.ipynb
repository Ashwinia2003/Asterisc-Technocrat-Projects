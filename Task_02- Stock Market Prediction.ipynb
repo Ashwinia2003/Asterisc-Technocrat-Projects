{
  "cells": [
    {
      "cell_type": "code",
      "execution_count": 1,
      "id": "8831ce23",
      "metadata": {
        "id": "8831ce23"
      },
      "outputs": [],
      "source": [
        "\n",
        "# Importing the libraries\n",
        "import numpy as np\n",
        "import matplotlib.pyplot as plt\n",
        "import pandas as pd"
      ]
    },
    {
      "cell_type": "code",
      "execution_count": 2,
      "id": "2e9e7022",
      "metadata": {
        "id": "2e9e7022"
      },
      "outputs": [],
      "source": [
        "dataset_train = pd.read_csv('/content/INR=X.csv')\n",
        "training_set = dataset_train.iloc[:, 1:2].values"
      ]
    },
    {
      "cell_type": "code",
      "execution_count": 3,
      "id": "b50e9dd1",
      "metadata": {
        "colab": {
          "base_uri": "https://localhost:8080/",
          "height": 206
        },
        "id": "b50e9dd1",
        "outputId": "49e17738-bec1-436d-8d87-11a6b8da4b01"
      },
      "outputs": [
        {
          "data": {
            "text/html": [
              "\n",
              "\n",
              "  <div id=\"df-c8709de1-dba4-4b0d-972c-7224b80e3962\">\n",
              "    <div class=\"colab-df-container\">\n",
              "      <div>\n",
              "<style scoped>\n",
              "    .dataframe tbody tr th:only-of-type {\n",
              "        vertical-align: middle;\n",
              "    }\n",
              "\n",
              "    .dataframe tbody tr th {\n",
              "        vertical-align: top;\n",
              "    }\n",
              "\n",
              "    .dataframe thead th {\n",
              "        text-align: right;\n",
              "    }\n",
              "</style>\n",
              "<table border=\"1\" class=\"dataframe\">\n",
              "  <thead>\n",
              "    <tr style=\"text-align: right;\">\n",
              "      <th></th>\n",
              "      <th>Date</th>\n",
              "      <th>Open</th>\n",
              "      <th>High</th>\n",
              "      <th>Low</th>\n",
              "      <th>Close</th>\n",
              "      <th>Adj Close</th>\n",
              "      <th>Volume</th>\n",
              "    </tr>\n",
              "  </thead>\n",
              "  <tbody>\n",
              "    <tr>\n",
              "      <th>0</th>\n",
              "      <td>2020-01-27</td>\n",
              "      <td>71.320000</td>\n",
              "      <td>71.635002</td>\n",
              "      <td>71.320000</td>\n",
              "      <td>71.324997</td>\n",
              "      <td>71.324997</td>\n",
              "      <td>0</td>\n",
              "    </tr>\n",
              "    <tr>\n",
              "      <th>1</th>\n",
              "      <td>2020-01-28</td>\n",
              "      <td>71.654999</td>\n",
              "      <td>71.654999</td>\n",
              "      <td>71.178001</td>\n",
              "      <td>71.440002</td>\n",
              "      <td>71.440002</td>\n",
              "      <td>0</td>\n",
              "    </tr>\n",
              "    <tr>\n",
              "      <th>2</th>\n",
              "      <td>2020-01-29</td>\n",
              "      <td>71.230103</td>\n",
              "      <td>71.425003</td>\n",
              "      <td>71.168503</td>\n",
              "      <td>71.230400</td>\n",
              "      <td>71.230400</td>\n",
              "      <td>0</td>\n",
              "    </tr>\n",
              "    <tr>\n",
              "      <th>3</th>\n",
              "      <td>2020-01-30</td>\n",
              "      <td>71.300003</td>\n",
              "      <td>71.711998</td>\n",
              "      <td>71.300003</td>\n",
              "      <td>71.300003</td>\n",
              "      <td>71.300003</td>\n",
              "      <td>0</td>\n",
              "    </tr>\n",
              "    <tr>\n",
              "      <th>4</th>\n",
              "      <td>2020-01-31</td>\n",
              "      <td>71.639999</td>\n",
              "      <td>71.639999</td>\n",
              "      <td>71.277496</td>\n",
              "      <td>71.639999</td>\n",
              "      <td>71.639999</td>\n",
              "      <td>0</td>\n",
              "    </tr>\n",
              "  </tbody>\n",
              "</table>\n",
              "</div>\n",
              "      <button class=\"colab-df-convert\" onclick=\"convertToInteractive('df-c8709de1-dba4-4b0d-972c-7224b80e3962')\"\n",
              "              title=\"Convert this dataframe to an interactive table.\"\n",
              "              style=\"display:none;\">\n",
              "\n",
              "  <svg xmlns=\"http://www.w3.org/2000/svg\" height=\"24px\"viewBox=\"0 0 24 24\"\n",
              "       width=\"24px\">\n",
              "    <path d=\"M0 0h24v24H0V0z\" fill=\"none\"/>\n",
              "    <path d=\"M18.56 5.44l.94 2.06.94-2.06 2.06-.94-2.06-.94-.94-2.06-.94 2.06-2.06.94zm-11 1L8.5 8.5l.94-2.06 2.06-.94-2.06-.94L8.5 2.5l-.94 2.06-2.06.94zm10 10l.94 2.06.94-2.06 2.06-.94-2.06-.94-.94-2.06-.94 2.06-2.06.94z\"/><path d=\"M17.41 7.96l-1.37-1.37c-.4-.4-.92-.59-1.43-.59-.52 0-1.04.2-1.43.59L10.3 9.45l-7.72 7.72c-.78.78-.78 2.05 0 2.83L4 21.41c.39.39.9.59 1.41.59.51 0 1.02-.2 1.41-.59l7.78-7.78 2.81-2.81c.8-.78.8-2.07 0-2.86zM5.41 20L4 18.59l7.72-7.72 1.47 1.35L5.41 20z\"/>\n",
              "  </svg>\n",
              "      </button>\n",
              "\n",
              "\n",
              "\n",
              "    <div id=\"df-008e4776-11a1-4cbe-bf50-7caae43bdc8f\">\n",
              "      <button class=\"colab-df-quickchart\" onclick=\"quickchart('df-008e4776-11a1-4cbe-bf50-7caae43bdc8f')\"\n",
              "              title=\"Suggest charts.\"\n",
              "              style=\"display:none;\">\n",
              "\n",
              "<svg xmlns=\"http://www.w3.org/2000/svg\" height=\"24px\"viewBox=\"0 0 24 24\"\n",
              "     width=\"24px\">\n",
              "    <g>\n",
              "        <path d=\"M19 3H5c-1.1 0-2 .9-2 2v14c0 1.1.9 2 2 2h14c1.1 0 2-.9 2-2V5c0-1.1-.9-2-2-2zM9 17H7v-7h2v7zm4 0h-2V7h2v10zm4 0h-2v-4h2v4z\"/>\n",
              "    </g>\n",
              "</svg>\n",
              "      </button>\n",
              "    </div>\n",
              "\n",
              "<style>\n",
              "  .colab-df-quickchart {\n",
              "    background-color: #E8F0FE;\n",
              "    border: none;\n",
              "    border-radius: 50%;\n",
              "    cursor: pointer;\n",
              "    display: none;\n",
              "    fill: #1967D2;\n",
              "    height: 32px;\n",
              "    padding: 0 0 0 0;\n",
              "    width: 32px;\n",
              "  }\n",
              "\n",
              "  .colab-df-quickchart:hover {\n",
              "    background-color: #E2EBFA;\n",
              "    box-shadow: 0px 1px 2px rgba(60, 64, 67, 0.3), 0px 1px 3px 1px rgba(60, 64, 67, 0.15);\n",
              "    fill: #174EA6;\n",
              "  }\n",
              "\n",
              "  [theme=dark] .colab-df-quickchart {\n",
              "    background-color: #3B4455;\n",
              "    fill: #D2E3FC;\n",
              "  }\n",
              "\n",
              "  [theme=dark] .colab-df-quickchart:hover {\n",
              "    background-color: #434B5C;\n",
              "    box-shadow: 0px 1px 3px 1px rgba(0, 0, 0, 0.15);\n",
              "    filter: drop-shadow(0px 1px 2px rgba(0, 0, 0, 0.3));\n",
              "    fill: #FFFFFF;\n",
              "  }\n",
              "</style>\n",
              "\n",
              "    <script>\n",
              "      async function quickchart(key) {\n",
              "        const containerElement = document.querySelector('#' + key);\n",
              "        const charts = await google.colab.kernel.invokeFunction(\n",
              "            'suggestCharts', [key], {});\n",
              "      }\n",
              "    </script>\n",
              "\n",
              "      <script>\n",
              "\n",
              "function displayQuickchartButton(domScope) {\n",
              "  let quickchartButtonEl =\n",
              "    domScope.querySelector('#df-008e4776-11a1-4cbe-bf50-7caae43bdc8f button.colab-df-quickchart');\n",
              "  quickchartButtonEl.style.display =\n",
              "    google.colab.kernel.accessAllowed ? 'block' : 'none';\n",
              "}\n",
              "\n",
              "        displayQuickchartButton(document);\n",
              "      </script>\n",
              "      <style>\n",
              "    .colab-df-container {\n",
              "      display:flex;\n",
              "      flex-wrap:wrap;\n",
              "      gap: 12px;\n",
              "    }\n",
              "\n",
              "    .colab-df-convert {\n",
              "      background-color: #E8F0FE;\n",
              "      border: none;\n",
              "      border-radius: 50%;\n",
              "      cursor: pointer;\n",
              "      display: none;\n",
              "      fill: #1967D2;\n",
              "      height: 32px;\n",
              "      padding: 0 0 0 0;\n",
              "      width: 32px;\n",
              "    }\n",
              "\n",
              "    .colab-df-convert:hover {\n",
              "      background-color: #E2EBFA;\n",
              "      box-shadow: 0px 1px 2px rgba(60, 64, 67, 0.3), 0px 1px 3px 1px rgba(60, 64, 67, 0.15);\n",
              "      fill: #174EA6;\n",
              "    }\n",
              "\n",
              "    [theme=dark] .colab-df-convert {\n",
              "      background-color: #3B4455;\n",
              "      fill: #D2E3FC;\n",
              "    }\n",
              "\n",
              "    [theme=dark] .colab-df-convert:hover {\n",
              "      background-color: #434B5C;\n",
              "      box-shadow: 0px 1px 3px 1px rgba(0, 0, 0, 0.15);\n",
              "      filter: drop-shadow(0px 1px 2px rgba(0, 0, 0, 0.3));\n",
              "      fill: #FFFFFF;\n",
              "    }\n",
              "  </style>\n",
              "\n",
              "      <script>\n",
              "        const buttonEl =\n",
              "          document.querySelector('#df-c8709de1-dba4-4b0d-972c-7224b80e3962 button.colab-df-convert');\n",
              "        buttonEl.style.display =\n",
              "          google.colab.kernel.accessAllowed ? 'block' : 'none';\n",
              "\n",
              "        async function convertToInteractive(key) {\n",
              "          const element = document.querySelector('#df-c8709de1-dba4-4b0d-972c-7224b80e3962');\n",
              "          const dataTable =\n",
              "            await google.colab.kernel.invokeFunction('convertToInteractive',\n",
              "                                                     [key], {});\n",
              "          if (!dataTable) return;\n",
              "\n",
              "          const docLinkHtml = 'Like what you see? Visit the ' +\n",
              "            '<a target=\"_blank\" href=https://colab.research.google.com/notebooks/data_table.ipynb>data table notebook</a>'\n",
              "            + ' to learn more about interactive tables.';\n",
              "          element.innerHTML = '';\n",
              "          dataTable['output_type'] = 'display_data';\n",
              "          await google.colab.output.renderOutput(dataTable, element);\n",
              "          const docLink = document.createElement('div');\n",
              "          docLink.innerHTML = docLinkHtml;\n",
              "          element.appendChild(docLink);\n",
              "        }\n",
              "      </script>\n",
              "    </div>\n",
              "  </div>\n"
            ],
            "text/plain": [
              "         Date       Open       High        Low      Close  Adj Close  Volume\n",
              "0  2020-01-27  71.320000  71.635002  71.320000  71.324997  71.324997       0\n",
              "1  2020-01-28  71.654999  71.654999  71.178001  71.440002  71.440002       0\n",
              "2  2020-01-29  71.230103  71.425003  71.168503  71.230400  71.230400       0\n",
              "3  2020-01-30  71.300003  71.711998  71.300003  71.300003  71.300003       0\n",
              "4  2020-01-31  71.639999  71.639999  71.277496  71.639999  71.639999       0"
            ]
          },
          "execution_count": 3,
          "metadata": {},
          "output_type": "execute_result"
        }
      ],
      "source": [
        "dataset_train.head()"
      ]
    },
    {
      "cell_type": "code",
      "execution_count": 4,
      "id": "ef059c61",
      "metadata": {
        "id": "ef059c61"
      },
      "outputs": [],
      "source": [
        "from sklearn.preprocessing import MinMaxScaler\n",
        "sc = MinMaxScaler(feature_range = (0, 1))\n",
        "training_set_scaled = sc.fit_transform(training_set)"
      ]
    },
    {
      "cell_type": "code",
      "execution_count": 7,
      "id": "d9e31214",
      "metadata": {
        "colab": {
          "base_uri": "https://localhost:8080/"
        },
        "id": "d9e31214",
        "outputId": "c9743fa5-c647-4f11-b54a-d583ad7ec51f"
      },
      "outputs": [
        {
          "name": "stdout",
          "output_type": "stream",
          "text": [
            "X_train shape: (202, 60)\n",
            "y_train shape: (202,)\n"
          ]
        }
      ],
      "source": [
        "X_train = []\n",
        "y_train = []\n",
        "\n",
        "# Assuming training_set_scaled is a 2D array with shape (n, 1)\n",
        "n = training_set_scaled.shape[0]\n",
        "\n",
        "# Check if you have enough data points to create a window of size 60\n",
        "if n < 60:\n",
        "    raise ValueError(\"Not enough data points to create a window of size 60.\")\n",
        "\n",
        "for i in range(60, n):\n",
        "    X_train.append(training_set_scaled[i-60:i, 0])\n",
        "    y_train.append(training_set_scaled[i, 0])\n",
        "\n",
        "X_train, y_train = np.array(X_train), np.array(y_train)\n",
        "\n",
        "# Check the shape of X_train and y_train\n",
        "print(\"X_train shape:\", X_train.shape)\n",
        "print(\"y_train shape:\", y_train.shape)\n"
      ]
    },
    {
      "cell_type": "code",
      "execution_count": 8,
      "id": "87b3d5f6",
      "metadata": {
        "id": "87b3d5f6"
      },
      "outputs": [],
      "source": [
        "X_train = np.reshape(X_train, (X_train.shape[0], X_train.shape[1], 1))"
      ]
    },
    {
      "cell_type": "code",
      "execution_count": 9,
      "id": "e9c7e945",
      "metadata": {
        "id": "e9c7e945"
      },
      "outputs": [],
      "source": [
        "import tensorflow as tf\n"
      ]
    },
    {
      "cell_type": "code",
      "execution_count": 10,
      "id": "24e98cee",
      "metadata": {
        "id": "24e98cee"
      },
      "outputs": [],
      "source": [
        "from keras.models import Sequential\n",
        "from keras.layers import Dense\n",
        "from keras.layers import LSTM\n",
        "from keras.layers import Dropout"
      ]
    },
    {
      "cell_type": "code",
      "execution_count": 11,
      "id": "3a176697",
      "metadata": {
        "id": "3a176697"
      },
      "outputs": [],
      "source": [
        "# Initialising the RNN\n",
        "regressor = Sequential()\n"
      ]
    },
    {
      "cell_type": "code",
      "execution_count": 12,
      "id": "645668b2",
      "metadata": {
        "id": "645668b2"
      },
      "outputs": [],
      "source": [
        "\n",
        "# Adding the first LSTM layer and some Dropout regularisation\n",
        "regressor.add(LSTM(units = 50, return_sequences = True, input_shape = (X_train.shape[1], 1)))\n",
        "regressor.add(Dropout(0.2))"
      ]
    },
    {
      "cell_type": "code",
      "execution_count": 13,
      "id": "548caec3",
      "metadata": {
        "id": "548caec3"
      },
      "outputs": [],
      "source": [
        "# Adding a second LSTM layer and some Dropout regularisation\n",
        "regressor.add(LSTM(units = 50, return_sequences = True))\n",
        "regressor.add(Dropout(0.2))"
      ]
    },
    {
      "cell_type": "code",
      "execution_count": 14,
      "id": "410d7fea",
      "metadata": {
        "id": "410d7fea"
      },
      "outputs": [],
      "source": [
        "regressor.add(Dropout(0.2))\n",
        "# Adding a third LSTM layer and some Dropout regularisation\n",
        "regressor.add(LSTM(units = 50, return_sequences = True))\n",
        "regressor.add(Dropout(0.2))"
      ]
    },
    {
      "cell_type": "code",
      "execution_count": 15,
      "id": "ccf54bac",
      "metadata": {
        "id": "ccf54bac"
      },
      "outputs": [],
      "source": [
        "regressor.add(Dropout(0.2))\n",
        "# Adding a third LSTM layer and some Dropout regularisation\n",
        "regressor.add(LSTM(units = 50, return_sequences = True))\n",
        "regressor.add(Dropout(0.2))"
      ]
    },
    {
      "cell_type": "code",
      "execution_count": 16,
      "id": "623f7ba6",
      "metadata": {
        "id": "623f7ba6"
      },
      "outputs": [],
      "source": [
        "# Adding a fourth LSTM layer and some Dropout regularisation\n",
        "regressor.add(LSTM(units = 50))\n",
        "regressor.add(Dropout(0.2))"
      ]
    },
    {
      "cell_type": "code",
      "execution_count": 19,
      "id": "3fe41c4e",
      "metadata": {
        "colab": {
          "base_uri": "https://localhost:8080/"
        },
        "id": "3fe41c4e",
        "outputId": "a06d9d48-ec23-4849-cce5-9bc5323c6b1e"
      },
      "outputs": [
        {
          "name": "stdout",
          "output_type": "stream",
          "text": [
            "Epoch 1/100\n",
            "7/7 [==============================] - 46s 164ms/step - loss: 0.0727\n",
            "Epoch 2/100\n",
            "7/7 [==============================] - 1s 163ms/step - loss: 0.0344\n",
            "Epoch 3/100\n",
            "7/7 [==============================] - 1s 161ms/step - loss: 0.0347\n",
            "Epoch 4/100\n",
            "7/7 [==============================] - 1s 163ms/step - loss: 0.0289\n",
            "Epoch 5/100\n",
            "7/7 [==============================] - 1s 167ms/step - loss: 0.0274\n",
            "Epoch 6/100\n",
            "7/7 [==============================] - 1s 179ms/step - loss: 0.0286\n",
            "Epoch 7/100\n",
            "7/7 [==============================] - 2s 280ms/step - loss: 0.0255\n",
            "Epoch 8/100\n",
            "7/7 [==============================] - 1s 198ms/step - loss: 0.0265\n",
            "Epoch 9/100\n",
            "7/7 [==============================] - 1s 165ms/step - loss: 0.0265\n",
            "Epoch 10/100\n",
            "7/7 [==============================] - 1s 164ms/step - loss: 0.0290\n",
            "Epoch 11/100\n",
            "7/7 [==============================] - 1s 166ms/step - loss: 0.0281\n",
            "Epoch 12/100\n",
            "7/7 [==============================] - 1s 166ms/step - loss: 0.0284\n",
            "Epoch 13/100\n",
            "7/7 [==============================] - 1s 167ms/step - loss: 0.0296\n",
            "Epoch 14/100\n",
            "7/7 [==============================] - 1s 165ms/step - loss: 0.0264\n",
            "Epoch 15/100\n",
            "7/7 [==============================] - 1s 163ms/step - loss: 0.0258\n",
            "Epoch 16/100\n",
            "7/7 [==============================] - 1s 170ms/step - loss: 0.0274\n",
            "Epoch 17/100\n",
            "7/7 [==============================] - 2s 275ms/step - loss: 0.0223\n",
            "Epoch 18/100\n",
            "7/7 [==============================] - 2s 210ms/step - loss: 0.0174\n",
            "Epoch 19/100\n",
            "7/7 [==============================] - 1s 167ms/step - loss: 0.0111\n",
            "Epoch 20/100\n",
            "7/7 [==============================] - 1s 164ms/step - loss: 0.0103\n",
            "Epoch 21/100\n",
            "7/7 [==============================] - 1s 165ms/step - loss: 0.0081\n",
            "Epoch 22/100\n",
            "7/7 [==============================] - 1s 166ms/step - loss: 0.0072\n",
            "Epoch 23/100\n",
            "7/7 [==============================] - 1s 165ms/step - loss: 0.0069\n",
            "Epoch 24/100\n",
            "7/7 [==============================] - 1s 165ms/step - loss: 0.0075\n",
            "Epoch 25/100\n",
            "7/7 [==============================] - 1s 163ms/step - loss: 0.0098\n",
            "Epoch 26/100\n",
            "7/7 [==============================] - 1s 170ms/step - loss: 0.0093\n",
            "Epoch 27/100\n",
            "7/7 [==============================] - 2s 278ms/step - loss: 0.0071\n",
            "Epoch 28/100\n",
            "7/7 [==============================] - 2s 212ms/step - loss: 0.0072\n",
            "Epoch 29/100\n",
            "7/7 [==============================] - 1s 166ms/step - loss: 0.0087\n",
            "Epoch 30/100\n",
            "7/7 [==============================] - 1s 166ms/step - loss: 0.0086\n",
            "Epoch 31/100\n",
            "7/7 [==============================] - 1s 163ms/step - loss: 0.0058\n",
            "Epoch 32/100\n",
            "7/7 [==============================] - 1s 161ms/step - loss: 0.0065\n",
            "Epoch 33/100\n",
            "7/7 [==============================] - 1s 167ms/step - loss: 0.0065\n",
            "Epoch 34/100\n",
            "7/7 [==============================] - 1s 170ms/step - loss: 0.0056\n",
            "Epoch 35/100\n",
            "7/7 [==============================] - 1s 167ms/step - loss: 0.0058\n",
            "Epoch 36/100\n",
            "7/7 [==============================] - 1s 163ms/step - loss: 0.0049\n",
            "Epoch 37/100\n",
            "7/7 [==============================] - 2s 278ms/step - loss: 0.0052\n",
            "Epoch 38/100\n",
            "7/7 [==============================] - 2s 219ms/step - loss: 0.0044\n",
            "Epoch 39/100\n",
            "7/7 [==============================] - 1s 163ms/step - loss: 0.0057\n",
            "Epoch 40/100\n",
            "7/7 [==============================] - 1s 163ms/step - loss: 0.0064\n",
            "Epoch 41/100\n",
            "7/7 [==============================] - 1s 165ms/step - loss: 0.0067\n",
            "Epoch 42/100\n",
            "7/7 [==============================] - 1s 163ms/step - loss: 0.0055\n",
            "Epoch 43/100\n",
            "7/7 [==============================] - 1s 168ms/step - loss: 0.0072\n",
            "Epoch 44/100\n",
            "7/7 [==============================] - 1s 165ms/step - loss: 0.0054\n",
            "Epoch 45/100\n",
            "7/7 [==============================] - 1s 165ms/step - loss: 0.0052\n",
            "Epoch 46/100\n",
            "7/7 [==============================] - 1s 166ms/step - loss: 0.0055\n",
            "Epoch 47/100\n",
            "7/7 [==============================] - 2s 277ms/step - loss: 0.0051\n",
            "Epoch 48/100\n",
            "7/7 [==============================] - 2s 231ms/step - loss: 0.0045\n",
            "Epoch 49/100\n",
            "7/7 [==============================] - 1s 167ms/step - loss: 0.0043\n",
            "Epoch 50/100\n",
            "7/7 [==============================] - 1s 163ms/step - loss: 0.0042\n",
            "Epoch 51/100\n",
            "7/7 [==============================] - 1s 164ms/step - loss: 0.0042\n",
            "Epoch 52/100\n",
            "7/7 [==============================] - 1s 162ms/step - loss: 0.0044\n",
            "Epoch 53/100\n",
            "7/7 [==============================] - 1s 162ms/step - loss: 0.0059\n",
            "Epoch 54/100\n",
            "7/7 [==============================] - 1s 163ms/step - loss: 0.0045\n",
            "Epoch 55/100\n",
            "7/7 [==============================] - 1s 166ms/step - loss: 0.0036\n",
            "Epoch 56/100\n",
            "7/7 [==============================] - 1s 163ms/step - loss: 0.0049\n",
            "Epoch 57/100\n",
            "7/7 [==============================] - 2s 266ms/step - loss: 0.0043\n",
            "Epoch 58/100\n",
            "7/7 [==============================] - 2s 244ms/step - loss: 0.0049\n",
            "Epoch 59/100\n",
            "7/7 [==============================] - 1s 165ms/step - loss: 0.0053\n",
            "Epoch 60/100\n",
            "7/7 [==============================] - 1s 162ms/step - loss: 0.0046\n",
            "Epoch 61/100\n",
            "7/7 [==============================] - 1s 164ms/step - loss: 0.0046\n",
            "Epoch 62/100\n",
            "7/7 [==============================] - 1s 166ms/step - loss: 0.0041\n",
            "Epoch 63/100\n",
            "7/7 [==============================] - 1s 166ms/step - loss: 0.0055\n",
            "Epoch 64/100\n",
            "7/7 [==============================] - 1s 160ms/step - loss: 0.0059\n",
            "Epoch 65/100\n",
            "7/7 [==============================] - 1s 160ms/step - loss: 0.0037\n",
            "Epoch 66/100\n",
            "7/7 [==============================] - 1s 159ms/step - loss: 0.0037\n",
            "Epoch 67/100\n",
            "7/7 [==============================] - 2s 246ms/step - loss: 0.0046\n",
            "Epoch 68/100\n",
            "7/7 [==============================] - 2s 259ms/step - loss: 0.0040\n",
            "Epoch 69/100\n",
            "7/7 [==============================] - 1s 168ms/step - loss: 0.0049\n",
            "Epoch 70/100\n",
            "7/7 [==============================] - 1s 165ms/step - loss: 0.0048\n",
            "Epoch 71/100\n",
            "7/7 [==============================] - 1s 168ms/step - loss: 0.0036\n",
            "Epoch 72/100\n",
            "7/7 [==============================] - 1s 164ms/step - loss: 0.0050\n",
            "Epoch 73/100\n",
            "7/7 [==============================] - 1s 166ms/step - loss: 0.0044\n",
            "Epoch 74/100\n",
            "7/7 [==============================] - 1s 167ms/step - loss: 0.0038\n",
            "Epoch 75/100\n",
            "7/7 [==============================] - 1s 170ms/step - loss: 0.0039\n",
            "Epoch 76/100\n",
            "7/7 [==============================] - 1s 164ms/step - loss: 0.0039\n",
            "Epoch 77/100\n",
            "7/7 [==============================] - 2s 255ms/step - loss: 0.0036\n",
            "Epoch 78/100\n",
            "7/7 [==============================] - 2s 256ms/step - loss: 0.0031\n",
            "Epoch 79/100\n",
            "7/7 [==============================] - 1s 166ms/step - loss: 0.0035\n",
            "Epoch 80/100\n",
            "7/7 [==============================] - 1s 165ms/step - loss: 0.0037\n",
            "Epoch 81/100\n",
            "7/7 [==============================] - 1s 167ms/step - loss: 0.0034\n",
            "Epoch 82/100\n",
            "7/7 [==============================] - 1s 164ms/step - loss: 0.0037\n",
            "Epoch 83/100\n",
            "7/7 [==============================] - 1s 163ms/step - loss: 0.0048\n",
            "Epoch 84/100\n",
            "7/7 [==============================] - 1s 168ms/step - loss: 0.0043\n",
            "Epoch 85/100\n",
            "7/7 [==============================] - 1s 165ms/step - loss: 0.0039\n",
            "Epoch 86/100\n",
            "7/7 [==============================] - 1s 165ms/step - loss: 0.0036\n",
            "Epoch 87/100\n",
            "7/7 [==============================] - 2s 249ms/step - loss: 0.0041\n",
            "Epoch 88/100\n",
            "7/7 [==============================] - 2s 263ms/step - loss: 0.0037\n",
            "Epoch 89/100\n",
            "7/7 [==============================] - 1s 168ms/step - loss: 0.0034\n",
            "Epoch 90/100\n",
            "7/7 [==============================] - 1s 165ms/step - loss: 0.0028\n",
            "Epoch 91/100\n",
            "7/7 [==============================] - 1s 164ms/step - loss: 0.0029\n",
            "Epoch 92/100\n",
            "7/7 [==============================] - 1s 164ms/step - loss: 0.0029\n",
            "Epoch 93/100\n",
            "7/7 [==============================] - 1s 168ms/step - loss: 0.0034\n",
            "Epoch 94/100\n",
            "7/7 [==============================] - 1s 164ms/step - loss: 0.0033\n",
            "Epoch 95/100\n",
            "7/7 [==============================] - 1s 164ms/step - loss: 0.0027\n",
            "Epoch 96/100\n",
            "7/7 [==============================] - 1s 165ms/step - loss: 0.0037\n",
            "Epoch 97/100\n",
            "7/7 [==============================] - 2s 240ms/step - loss: 0.0031\n",
            "Epoch 98/100\n",
            "7/7 [==============================] - 2s 285ms/step - loss: 0.0031\n",
            "Epoch 99/100\n",
            "7/7 [==============================] - 1s 168ms/step - loss: 0.0032\n",
            "Epoch 100/100\n",
            "7/7 [==============================] - 1s 163ms/step - loss: 0.0034\n"
          ]
        },
        {
          "data": {
            "text/plain": [
              "<keras.callbacks.History at 0x7f2e6379c760>"
            ]
          },
          "execution_count": 19,
          "metadata": {},
          "output_type": "execute_result"
        }
      ],
      "source": [
        "# Adding the output layer\n",
        "regressor.add(Dense(units = 1))\n",
        "\n",
        "# Compiling the RNN\n",
        "regressor.compile(optimizer = 'adam', loss = 'mean_squared_error')\n",
        "\n",
        "# Fitting the RNN to the Training set\n",
        "regressor.fit(X_train, y_train, epochs = 100, batch_size = 32)"
      ]
    },
    {
      "cell_type": "code",
      "execution_count": 21,
      "id": "t-_xICHK5lm5",
      "metadata": {
        "id": "t-_xICHK5lm5"
      },
      "outputs": [],
      "source": [
        "# Getting the real stock price of 2017\n",
        "dataset_test = pd.read_csv('/content/INR=X.csv')\n",
        "real_stock_price = dataset_test.iloc[:, 1:2].values"
      ]
    },
    {
      "cell_type": "code",
      "execution_count": 22,
      "id": "k-NsK2SA5qyC",
      "metadata": {
        "colab": {
          "base_uri": "https://localhost:8080/"
        },
        "id": "k-NsK2SA5qyC",
        "outputId": "bfd5e988-42ca-4713-8ab6-ec2165ba4232"
      },
      "outputs": [
        {
          "name": "stdout",
          "output_type": "stream",
          "text": [
            "1/1 [==============================] - 8s 8s/step\n"
          ]
        }
      ],
      "source": [
        "dataset_total = pd.concat((dataset_train['Open'], dataset_test['Open']), axis = 0)\n",
        "inputs = dataset_total[len(dataset_total) - len(dataset_test) - 60:].values\n",
        "inputs = inputs.reshape(-1,1)\n",
        "inputs = sc.transform(inputs)\n",
        "X_test = []\n",
        "for i in range(60, 76):\n",
        "    X_test.append(inputs[i-60:i, 0])\n",
        "X_test = np.array(X_test)\n",
        "X_test = np.reshape(X_test, (X_test.shape[0], X_test.shape[1], 1))\n",
        "predicted_stock_price = regressor.predict(X_test)\n",
        "predicted_stock_price = sc.inverse_transform(predicted_stock_price)"
      ]
    },
    {
      "cell_type": "code",
      "execution_count": 23,
      "id": "Z1suonHi5uB1",
      "metadata": {
        "colab": {
          "base_uri": "https://localhost:8080/",
          "height": 472
        },
        "id": "Z1suonHi5uB1",
        "outputId": "16bc78cd-bef4-4239-e4fa-7cd9014151fc"
      },
      "outputs": [
        {
          "data": {
            "image/png": "[encoded data removed]",
            "text/plain": [
              "<Figure size 640x480 with 1 Axes>"
            ]
          },
          "metadata": {},
          "output_type": "display_data"
        }
      ],
      "source": [
        "plt.plot(real_stock_price, color = 'green', label = 'Real TATA Stock Price')\n",
        "plt.plot(predicted_stock_price, color = 'yellow', label = 'Predicted TAT Stock Price')\n",
        "plt.title('TATA Stock Price Prediction')\n",
        "plt.xlabel('Time')\n",
        "plt.ylabel('TATA Stock Price')\n",
        "plt.legend()\n",
        "plt.show()"
      ]
    }
  ],
  "metadata": {
    "colab": {
      "provenance": []
    },
    "kernelspec": {
      "display_name": "Python 3 (ipykernel)",
      "language": "python",
      "name": "python3"
    },
    "language_info": {
      "codemirror_mode": {
        "name": "ipython",
        "version": 3
      },
      "file_extension": ".py",
      "mimetype": "text/x-python",
      "name": "python",
      "nbconvert_exporter": "python",
      "pygments_lexer": "ipython3",
      "version": "3.10.9"
    }
  },
  "nbformat": 4,
  "nbformat_minor": 5
}
